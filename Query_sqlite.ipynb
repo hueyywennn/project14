{
 "cells": [
  {
   "cell_type": "markdown",
   "id": "6ecc5590-3339-4179-b558-67cc0d2a38bf",
   "metadata": {},
   "source": [
    "# SQL Query Execution"
   ]
  },
  {
   "cell_type": "code",
   "execution_count": 2,
   "id": "9669b944-6c19-40cb-abcb-3e7199e5b9e3",
   "metadata": {},
   "outputs": [],
   "source": [
    "import sqlite3\n",
    "import pandas as pd\n",
    "import numpy as np\n",
    "\n",
    "# Connect to the database\n",
    "conn = sqlite3.connect(\"zomato.db\")\n",
    "\n",
    "# Load the dataset into a Pandas DataFrame\n",
    "df = pd.read_sql(\"SELECT * FROM zomato_cleaned;\", conn)"
   ]
  },
  {
   "cell_type": "markdown",
   "id": "e764f95a-77e6-4393-b1b1-3e5abd461337",
   "metadata": {},
   "source": [
    "# View table"
   ]
  },
  {
   "cell_type": "code",
   "execution_count": 4,
   "id": "a3b8a60f-6921-4b61-8991-e5efdc3aa4f4",
   "metadata": {},
   "outputs": [
    {
     "name": "stdout",
     "output_type": "stream",
     "text": [
      "                    name  online_order  book_table  rate  votes      location  \\\n",
      "0                  Jalsa             1           1   4.1    775  Banashankari   \n",
      "1         Spice Elephant             1           0   4.1    787  Banashankari   \n",
      "2        San Churro Cafe             1           0   3.8    918  Banashankari   \n",
      "3  Addhuri Udupi Bhojana             0           0   3.7     88  Banashankari   \n",
      "4          Grand Village             0           0   3.8    166  Basavanagudi   \n",
      "\n",
      "             rest_type                                         dish_liked  \\\n",
      "0        Casual Dining  Pasta, Lunch Buffet, Masala Papad, Paneer Laja...   \n",
      "1        Casual Dining  Momos, Lunch Buffet, Chocolate Nirvana, Thai G...   \n",
      "2  Cafe, Casual Dining  Churros, Cannelloni, Minestrone Soup, Hot Choc...   \n",
      "3          Quick Bites                                        Masala Dosa   \n",
      "4        Casual Dining                                Panipuri, Gol Gappe   \n",
      "\n",
      "                         cuisines  cost    type          city  \n",
      "0  North Indian, Mughlai, Chinese   800  Buffet  Banashankari  \n",
      "1     Chinese, North Indian, Thai   800  Buffet  Banashankari  \n",
      "2          Cafe, Mexican, Italian   800  Buffet  Banashankari  \n",
      "3      South Indian, North Indian   300  Buffet  Banashankari  \n",
      "4        North Indian, Rajasthani   600  Buffet  Banashankari  \n"
     ]
    }
   ],
   "source": [
    "import sqlite3\n",
    "import pandas as pd\n",
    "\n",
    "# Connect to SQLite\n",
    "conn = sqlite3.connect(\"zomato.db\")\n",
    "\n",
    "# Check the first few rows\n",
    "query = \"SELECT * FROM zomato_cleaned LIMIT 5;\"\n",
    "df_check = pd.read_sql(query, conn)\n",
    "print(df_check)\n",
    "\n",
    "# Close connection\n",
    "conn.close()"
   ]
  },
  {
   "cell_type": "markdown",
   "id": "018bc36a-acac-4ffc-bb5a-f716053e05d2",
   "metadata": {},
   "source": [
    "# Perform basis analysis using SQL"
   ]
  },
  {
   "cell_type": "markdown",
   "id": "5934758b-52a3-4aba-b4e5-538da058bfd3",
   "metadata": {},
   "source": [
    "## Total restaurants count"
   ]
  },
  {
   "cell_type": "code",
   "execution_count": 7,
   "id": "1e300f39-1b02-4a4c-bc2c-ad8fa5e1dad0",
   "metadata": {},
   "outputs": [
    {
     "name": "stdout",
     "output_type": "stream",
     "text": [
      "   total_restaurants\n",
      "0              51672\n"
     ]
    }
   ],
   "source": [
    "# total restaurants count\n",
    "conn = sqlite3.connect(\"zomato.db\")\n",
    "query = \"SELECT COUNT(*) AS total_restaurants FROM zomato_cleaned;\"\n",
    "df_count = pd.read_sql(query, conn)\n",
    "print(df_count)"
   ]
  },
  {
   "cell_type": "markdown",
   "id": "cadd8a48-5bfe-42eb-9e7d-a71db6936748",
   "metadata": {},
   "source": [
    "## Top 10 unique restaurants with highest ratings"
   ]
  },
  {
   "cell_type": "code",
   "execution_count": 9,
   "id": "75bf7669-8b35-4059-ba84-0b9b0c732fc2",
   "metadata": {},
   "outputs": [
    {
     "name": "stdout",
     "output_type": "stream",
     "text": [
      "                                                name  rate  votes\n",
      "0                        Byg Brewski Brewing Company   4.9  16832\n",
      "1                          AB's - Absolute Barbecues   4.9  12121\n",
      "2                                           Flechazo   4.9   7154\n",
      "3                     Asia Kitchen By Mainland China   4.9   2256\n",
      "4                                   Milano Ice Cream   4.9   2090\n",
      "5                                       Punjab Grill   4.9   1985\n",
      "6                             Belgian Waffle Factory   4.9   1750\n",
      "7  SantÃÂÃÂÃÂÃÂÃÂÃÂÃÂÃÂÃÂÃÂÃ...   4.9    246\n",
      "8                                    The Black Pearl   4.8  10550\n",
      "9                                    Barbeque Nation   4.8   7270\n"
     ]
    }
   ],
   "source": [
    "# top 10 unique (without repeating) restaurants with highest ratings\n",
    "conn = sqlite3.connect(\"zomato.db\")\n",
    "query = \"\"\"\n",
    "SELECT name, MAX(rate) AS rate, MAX(votes) AS votes\n",
    "FROM zomato_cleaned\n",
    "GROUP BY name\n",
    "ORDER BY rate DESC, votes DESC\n",
    "LIMIT 10;\n",
    "\"\"\"\n",
    "df_top_rated = pd.read_sql(query, conn)\n",
    "print(df_top_rated)"
   ]
  },
  {
   "cell_type": "markdown",
   "id": "879316f1-9891-498f-b9fa-c1313df42b5d",
   "metadata": {},
   "source": [
    "## Top 10 restaurants with highest counts"
   ]
  },
  {
   "cell_type": "code",
   "execution_count": 11,
   "id": "f745feff-d3cd-41e4-bc70-2fbcd8a20e22",
   "metadata": {},
   "outputs": [
    {
     "name": "stdout",
     "output_type": "stream",
     "text": [
      "            rest_type  total_restaurants\n",
      "0         Quick Bites              19129\n",
      "1       Casual Dining              10326\n",
      "2                Cafe               3732\n",
      "3            Delivery               2595\n",
      "4      Dessert Parlor               2262\n",
      "5  Takeaway, Delivery               2035\n",
      "6  Casual Dining, Bar               1154\n",
      "7              Bakery               1141\n",
      "8       Beverage Shop                865\n",
      "9                 Bar                697\n"
     ]
    }
   ],
   "source": [
    "# restaurant types\n",
    "conn = sqlite3.connect(\"zomato.db\")\n",
    "query = \"\"\"\n",
    "SELECT rest_type, COUNT(*) AS total_restaurants \n",
    "FROM zomato_cleaned \n",
    "GROUP BY rest_type \n",
    "ORDER BY total_restaurants DESC \n",
    "LIMIT 10;\n",
    "\"\"\"\n",
    "df_rest_type = pd.read_sql(query, conn)\n",
    "print(df_rest_type)"
   ]
  },
  {
   "cell_type": "markdown",
   "id": "6365d61d-23af-4ade-a7a6-ec97d528644d",
   "metadata": {},
   "source": [
    "## Top 5 quick bites restaurants"
   ]
  },
  {
   "cell_type": "code",
   "execution_count": 13,
   "id": "d63c70d9-d025-490c-934c-61ce75823b4f",
   "metadata": {},
   "outputs": [
    {
     "name": "stdout",
     "output_type": "stream",
     "text": [
      "                        name  rate  votes\n",
      "0                        CTR   4.8   4421\n",
      "1       Brahmin's Coffee Bar   4.8   2679\n",
      "2               Taaza Thindi   4.7    651\n",
      "3               Kurtoskalacs   4.7    342\n",
      "4  Mavalli Tiffin Room (MTR)   4.5   2896\n"
     ]
    }
   ],
   "source": [
    "# top 5 quick bites restaurants\n",
    "conn = sqlite3.connect(\"zomato.db\")\n",
    "query = \"\"\"\n",
    "SELECT name, MAX(rate) AS rate, MAX(votes) AS votes  \n",
    "FROM zomato_cleaned  \n",
    "WHERE rest_type LIKE '%Quick Bites%'  \n",
    "GROUP BY name  \n",
    "ORDER BY rate DESC, votes DESC  \n",
    "LIMIT 5;\n",
    "\"\"\"\n",
    "df_quick_bites = pd.read_sql(query, conn)\n",
    "print(df_quick_bites)"
   ]
  },
  {
   "cell_type": "markdown",
   "id": "f09cc71e-f85a-40d8-8771-4267577fd996",
   "metadata": {},
   "source": [
    "## Most popular quick bites restaurant"
   ]
  },
  {
   "cell_type": "code",
   "execution_count": 15,
   "id": "d9a60009-7347-40ee-bf47-255f2c0085d4",
   "metadata": {},
   "outputs": [
    {
     "name": "stdout",
     "output_type": "stream",
     "text": [
      "                            name               location  total_outlets\n",
      "0                   #FeelTheROLL              Bellandur              2\n",
      "1                     #L-81 Cafe                    HSR              9\n",
      "2         'Brahmins' Thatte Idli     Basaveshwara Nagar              1\n",
      "3                       1000 B.C  Koramangala 5th Block              6\n",
      "4     11 to 11 Express Biriyanis        Electronic City              2\n",
      "...                          ...                    ...            ...\n",
      "5311                     eat.fit             Whitefield              1\n",
      "5312           iCloud Irany Cafe            Brookefield              5\n",
      "5313           iSpice Resto Cafe            Indiranagar              4\n",
      "5314                     nu.tree             Whitefield              4\n",
      "5315                  repEAT Hub           Marathahalli              2\n",
      "\n",
      "[5316 rows x 3 columns]\n"
     ]
    }
   ],
   "source": [
    "# top 5 quick bites restaurants\n",
    "conn = sqlite3.connect(\"zomato.db\")\n",
    "query = \"\"\"\n",
    "SELECT name, location, COUNT(*) AS total_outlets  \n",
    "FROM zomato_cleaned  \n",
    "WHERE rest_type LIKE '%Quick Bites%'  \n",
    "GROUP BY name, location  \n",
    "ORDER BY name, total_outlets DESC;\n",
    "\"\"\"\n",
    "df_quick_bites_place = pd.read_sql(query, conn)\n",
    "print(df_quick_bites_place)"
   ]
  },
  {
   "cell_type": "markdown",
   "id": "7088bd45-22f0-4a10-89cb-d53a35473634",
   "metadata": {},
   "source": [
    "## Top 5 casual dining restaurants"
   ]
  },
  {
   "cell_type": "code",
   "execution_count": 17,
   "id": "33b8d0cd-e04b-48a8-aa3b-044ec4531f24",
   "metadata": {},
   "outputs": [
    {
     "name": "stdout",
     "output_type": "stream",
     "text": [
      "                                                name  rate  votes\n",
      "0                          AB's - Absolute Barbecues   4.9  12121\n",
      "1                                           Flechazo   4.9   7154\n",
      "2                     Asia Kitchen By Mainland China   4.9   2256\n",
      "3                                       Punjab Grill   4.9   1985\n",
      "4  SantÃÂÃÂÃÂÃÂÃÂÃÂÃÂÃÂÃÂÃÂÃ...   4.9    246\n"
     ]
    }
   ],
   "source": [
    "# top 5 casual dining restaurants\n",
    "conn = sqlite3.connect(\"zomato.db\")\n",
    "query = \"\"\"\n",
    "SELECT name, MAX(rate) AS rate, MAX(votes) AS votes  \n",
    "FROM zomato_cleaned  \n",
    "WHERE rest_type LIKE '%Casual Dining%'  \n",
    "GROUP BY name  \n",
    "ORDER BY rate DESC, votes DESC  \n",
    "LIMIT 5;\n",
    "\"\"\"\n",
    "df_casual_dining = pd.read_sql(query, conn)\n",
    "print(df_casual_dining)"
   ]
  },
  {
   "cell_type": "markdown",
   "id": "70b2c17a-5fde-447b-8eb5-1e9e2c23f19b",
   "metadata": {},
   "source": [
    "## Most popular casual dining restaurant"
   ]
  },
  {
   "cell_type": "code",
   "execution_count": 19,
   "id": "86bdc019-dfa8-45e5-ac8b-e506b1fcb51e",
   "metadata": {},
   "outputs": [
    {
     "name": "stdout",
     "output_type": "stream",
     "text": [
      "                                              name               location  \\\n",
      "0                                    #Vibes Restro        Electronic City   \n",
      "1             100ÃÂÃÂÃÂÃÂÃÂÃÂÃÂÃÂ°C                    BTM   \n",
      "2                               1131 Bar + Kitchen            Indiranagar   \n",
      "3                                    1441 Pizzeria               JP Nagar   \n",
      "4                                1722 Urban Bistro  Koramangala 5th Block   \n",
      "...                                            ...                    ...   \n",
      "2569                                        Zodiac             Whitefield   \n",
      "2570       Zodiac - Fortune Select JP Cosmos Hotel        Cunningham Road   \n",
      "2571                                         Zyara             HBR Layout   \n",
      "2572                                       nu.tree        Electronic City   \n",
      "2573  re:cess - Hilton Bangalore Embassy GolfLinks                 Domlur   \n",
      "\n",
      "      total_outlets  \n",
      "0                 3  \n",
      "1                 3  \n",
      "2                 6  \n",
      "3                 6  \n",
      "4                11  \n",
      "...             ...  \n",
      "2569              3  \n",
      "2570             17  \n",
      "2571              4  \n",
      "2572              1  \n",
      "2573              3  \n",
      "\n",
      "[2574 rows x 3 columns]\n"
     ]
    }
   ],
   "source": [
    "# top 5 quick bites restaurants\n",
    "conn = sqlite3.connect(\"zomato.db\")\n",
    "query = \"\"\"\n",
    "SELECT name, location, COUNT(*) AS total_outlets  \n",
    "FROM zomato_cleaned  \n",
    "WHERE rest_type LIKE '%Casual Dining%'  \n",
    "GROUP BY name, location  \n",
    "ORDER BY name, total_outlets DESC;\n",
    "\"\"\"\n",
    "df_quick_bites_place = pd.read_sql(query, conn)\n",
    "print(df_quick_bites_place)"
   ]
  },
  {
   "cell_type": "markdown",
   "id": "3c57939f-7b18-42e9-80b4-feafc265d76e",
   "metadata": {},
   "source": [
    "## Top 5 cafe restaurants"
   ]
  },
  {
   "cell_type": "code",
   "execution_count": 21,
   "id": "8e310321-cb2b-478f-b5ac-2c6df54d0028",
   "metadata": {},
   "outputs": [
    {
     "name": "stdout",
     "output_type": "stream",
     "text": [
      "                 name  rate  votes\n",
      "0            Truffles   4.7  14726\n",
      "1            Hammered   4.7   4845\n",
      "2  ECHOES Koramangala   4.7   3220\n",
      "3     Lot Like Crepes   4.7   1027\n",
      "4              Onesta   4.6   9085\n"
     ]
    }
   ],
   "source": [
    "# top 5 cafe restaurants\n",
    "conn = sqlite3.connect(\"zomato.db\")\n",
    "query = \"\"\"\n",
    "SELECT name, MAX(rate) AS rate, MAX(votes) AS votes  \n",
    "FROM zomato_cleaned  \n",
    "WHERE rest_type LIKE '%Cafe%'  \n",
    "GROUP BY name  \n",
    "ORDER BY rate DESC, votes DESC  \n",
    "LIMIT 5;\n",
    "\"\"\"\n",
    "df_cafe = pd.read_sql(query, conn)\n",
    "print(df_cafe)"
   ]
  },
  {
   "cell_type": "markdown",
   "id": "30a7225d-f5d2-40f9-bc72-d08706b38d1b",
   "metadata": {},
   "source": [
    "## Most popular cafe restaurant"
   ]
  },
  {
   "cell_type": "code",
   "execution_count": 23,
   "id": "870cdcfd-a9ca-433f-a799-a2f76c2b952c",
   "metadata": {},
   "outputs": [
    {
     "name": "stdout",
     "output_type": "stream",
     "text": [
      "                                  name               location  total_outlets\n",
      "0                              #refuel      Bannerghatta Road              3\n",
      "1                   154 Breakfast Club  Koramangala 3rd Block             16\n",
      "2                         18+ Ice Cafe           Kammanahalli              6\n",
      "3                     1980s Games Cafe           Basavanagudi              5\n",
      "4    24 Hours Coffee Drop - La Classic        Electronic City              2\n",
      "..                                 ...                    ...            ...\n",
      "697                           Yomama!!           Kammanahalli              6\n",
      "698                          Zee5 Loft  Koramangala 6th Block             16\n",
      "699                          Zee5 Loft                    HSR              4\n",
      "700                             Zoey's          Sarjapur Road              4\n",
      "701                  iSpice Resto Cafe            Indiranagar              3\n",
      "\n",
      "[702 rows x 3 columns]\n"
     ]
    }
   ],
   "source": [
    "# top 5 quick bites restaurants\n",
    "conn = sqlite3.connect(\"zomato.db\")\n",
    "query = \"\"\"\n",
    "SELECT name, location, COUNT(*) AS total_outlets  \n",
    "FROM zomato_cleaned  \n",
    "WHERE rest_type LIKE '%Cafe%'  \n",
    "GROUP BY name, location  \n",
    "ORDER BY name, total_outlets DESC;\n",
    "\"\"\"\n",
    "df_quick_bites_place = pd.read_sql(query, conn)\n",
    "print(df_quick_bites_place)"
   ]
  },
  {
   "cell_type": "markdown",
   "id": "2117ae06-5abe-4166-b5f7-9aeac5dc37ed",
   "metadata": {},
   "source": [
    "## Average cost for two people by city"
   ]
  },
  {
   "cell_type": "code",
   "execution_count": 25,
   "id": "40a2ded3-c635-454d-8585-aa48a9ed990c",
   "metadata": {},
   "outputs": [
    {
     "name": "stdout",
     "output_type": "stream",
     "text": [
      "                     city    avg_cost\n",
      "0           Church Street  770.361248\n",
      "1            Brigade Road  766.676088\n",
      "2                 MG Road  759.563536\n",
      "3            Lavelle Road  751.353414\n",
      "4          Residency Road  739.573457\n",
      "5             Indiranagar  652.973118\n",
      "6        Old Airport Road  605.842697\n",
      "7              Whitefield  578.051948\n",
      "8            Malleshwaram  574.630137\n",
      "9             Frazer Town  557.569620\n",
      "10              Bellandur  550.522023\n",
      "11          Sarjapur Road  540.412371\n",
      "12  Koramangala 4th Block  527.244236\n",
      "13  Koramangala 5th Block  522.110837\n",
      "14            Brookefield  521.340819\n",
      "15  Koramangala 6th Block  520.183136\n",
      "16  Koramangala 7th Block  519.553967\n",
      "17           Marathahalli  497.877872\n",
      "18        Electronic City  496.715566\n",
      "19                    BTM  495.106467\n",
      "20                    HSR  487.511494\n",
      "21            Rajajinagar  485.395349\n",
      "22           Kalyan Nagar  479.051988\n",
      "23           Kammanahalli  470.082894\n",
      "24              Jayanagar  468.814846\n",
      "25               JP Nagar  459.756214\n",
      "26           New BEL Road  456.418919\n",
      "27      Bannerghatta Road  452.469059\n",
      "28           Basavanagudi  445.101896\n",
      "29           Banashankari  402.487209\n"
     ]
    }
   ],
   "source": [
    "# average cost for two people by city\n",
    "conn = sqlite3.connect(\"zomato.db\")\n",
    "query = \"\"\"\n",
    "SELECT city, AVG(cost) AS avg_cost \n",
    "FROM zomato_cleaned \n",
    "GROUP BY city \n",
    "ORDER BY avg_cost DESC;\n",
    "\"\"\"\n",
    "df_avg_cost = pd.read_sql(query, conn)\n",
    "print(df_avg_cost)"
   ]
  },
  {
   "cell_type": "markdown",
   "id": "a10e7b89-69e3-4000-b870-8296efcf070a",
   "metadata": {},
   "source": [
    "## Distribution of ratings"
   ]
  },
  {
   "cell_type": "code",
   "execution_count": 27,
   "id": "2e833b70-38f1-410e-aec8-716a7bbdb10d",
   "metadata": {},
   "outputs": [
    {
     "name": "stdout",
     "output_type": "stream",
     "text": [
      "    rate  count\n",
      "0    1.8      5\n",
      "1    2.0     11\n",
      "2    2.1     24\n",
      "3    2.2     26\n",
      "4    2.3     51\n",
      "5    2.4     70\n",
      "6    2.5    101\n",
      "7    2.6    260\n",
      "8    2.7    307\n",
      "9    2.8    600\n",
      "10   2.9    802\n",
      "11   3.0   1023\n",
      "12   3.1   1561\n",
      "13   3.2   1872\n",
      "14   3.3   2306\n",
      "15   3.4   2475\n",
      "16   3.5   2784\n",
      "17   3.6   3314\n",
      "18   3.7  13837\n",
      "19   3.8   3873\n",
      "20   3.9   3972\n",
      "21   4.0   3182\n",
      "22   4.1   2948\n",
      "23   4.2   2184\n",
      "24   4.3   1693\n",
      "25   4.4   1147\n",
      "26   4.5    656\n",
      "27   4.6    300\n",
      "28   4.7    167\n",
      "29   4.8     66\n",
      "30   4.9     55\n"
     ]
    }
   ],
   "source": [
    "# view ratings\n",
    "conn = sqlite3.connect(\"zomato.db\")\n",
    "query = \"\"\"\n",
    "SELECT rate, COUNT(*) AS count  \n",
    "FROM zomato_cleaned  \n",
    "GROUP BY rate  \n",
    "ORDER BY rate ASC;\n",
    "\"\"\"\n",
    "df_ratings = pd.read_sql(query, conn)\n",
    "print(df_ratings)"
   ]
  },
  {
   "cell_type": "markdown",
   "id": "e173eafd-f273-45dc-86af-b3d06451b917",
   "metadata": {},
   "source": [
    "## Distribution of online and offline orders"
   ]
  },
  {
   "cell_type": "code",
   "execution_count": 29,
   "id": "6419ca86-c2c6-4670-8b85-00f4eb624b97",
   "metadata": {},
   "outputs": [
    {
     "name": "stdout",
     "output_type": "stream",
     "text": [
      "   online_order  total_restaurants\n",
      "0             0              21244\n",
      "1             1              30428\n"
     ]
    }
   ],
   "source": [
    "# offer online orders\n",
    "conn = sqlite3.connect(\"zomato.db\")\n",
    "query = \"\"\"\n",
    "SELECT online_order, COUNT(*) AS total_restaurants \n",
    "FROM zomato_cleaned \n",
    "GROUP BY online_order;\n",
    "\"\"\"\n",
    "df_online_order = pd.read_sql(query, conn)\n",
    "print(df_online_order)"
   ]
  },
  {
   "cell_type": "markdown",
   "id": "a3c7b169-25fd-4011-9bbd-4ef15e1372f7",
   "metadata": {},
   "source": [
    "## Distribution of provide table booking and does not provide table booking"
   ]
  },
  {
   "cell_type": "code",
   "execution_count": 31,
   "id": "e63bbde3-d193-48b9-8326-d6afb6077bbf",
   "metadata": {},
   "outputs": [
    {
     "name": "stdout",
     "output_type": "stream",
     "text": [
      "   book_table  total_restaurants\n",
      "0           0              45223\n",
      "1           1               6449\n"
     ]
    }
   ],
   "source": [
    "# offer table booking\n",
    "conn = sqlite3.connect(\"zomato.db\")\n",
    "query = \"\"\"\n",
    "SELECT book_table, COUNT(*) AS total_restaurants \n",
    "FROM zomato_cleaned \n",
    "GROUP BY book_table;\n",
    "\"\"\"\n",
    "df_book_table = pd.read_sql(query, conn)\n",
    "print(df_book_table)"
   ]
  },
  {
   "cell_type": "markdown",
   "id": "2f20fb00-f6e9-49f3-8aa8-4e63942b9b9b",
   "metadata": {},
   "source": [
    "## Top 10 dishes"
   ]
  },
  {
   "cell_type": "code",
   "execution_count": 33,
   "id": "88020811-247c-44f8-bf2c-cd0ab20f4bee",
   "metadata": {},
   "outputs": [
    {
     "name": "stdout",
     "output_type": "stream",
     "text": [
      "         dish_liked  occurrences\n",
      "0           Biryani          182\n",
      "1   Chicken Biryani           73\n",
      "2    Friendly Staff           69\n",
      "3           Waffles           68\n",
      "4           Paratha           57\n",
      "5       Masala Dosa           56\n",
      "6  Rooftop Ambience           42\n",
      "7            Coffee           42\n",
      "8             Pizza           38\n",
      "9           Burgers           33\n"
     ]
    }
   ],
   "source": [
    "# top 10 dishes\n",
    "conn = sqlite3.connect(\"zomato.db\")\n",
    "query = \"\"\"\n",
    "SELECT dish_liked, COUNT(*) AS occurrences \n",
    "FROM zomato_cleaned \n",
    "WHERE dish_liked != 'Not Available'  \n",
    "GROUP BY dish_liked \n",
    "ORDER BY occurrences DESC \n",
    "LIMIT 10;\n",
    "\"\"\"\n",
    "df_dishes = pd.read_sql(query, conn)\n",
    "print(df_dishes)"
   ]
  },
  {
   "cell_type": "markdown",
   "id": "a30b0314-5a87-4e55-ad95-44970e7e1e64",
   "metadata": {},
   "source": [
    "## Most common cuisine by each city"
   ]
  },
  {
   "cell_type": "code",
   "execution_count": 35,
   "id": "bc217a5d-663f-4cf3-9b46-50428e5d89d9",
   "metadata": {},
   "outputs": [
    {
     "name": "stdout",
     "output_type": "stream",
     "text": [
      "            city       cuisine  total_restaurants\n",
      "0            BTM  North Indian               1400\n",
      "1            BTM       Chinese               1034\n",
      "2            BTM     Fast Food                548\n",
      "3            BTM  South Indian                478\n",
      "4            BTM       Biryani                430\n",
      "...          ...           ...                ...\n",
      "2153  Whitefield       African                  2\n",
      "2154  Whitefield      Nepalese                  1\n",
      "2155  Whitefield      Lucknowi                  1\n",
      "2156  Whitefield      Lebanese                  1\n",
      "2157  Whitefield    Bubble Tea                  1\n",
      "\n",
      "[2158 rows x 3 columns]\n"
     ]
    }
   ],
   "source": [
    "# most common cuisine in each city by counting the occurrences of each cuisine\n",
    "conn = sqlite3.connect(\"zomato.db\")\n",
    "query = \"\"\"\n",
    "SELECT city, cuisine, COUNT(*) AS total_restaurants\n",
    "FROM (\n",
    "    SELECT city, TRIM(value) AS cuisine\n",
    "    FROM zomato_cleaned, \n",
    "    json_each('[\"' || REPLACE(cuisines, ', ', '\",\"') || '\"]')\n",
    ")\n",
    "GROUP BY city, cuisine\n",
    "ORDER BY city, total_restaurants DESC;\n",
    "\"\"\"\n",
    "df_city_best_cuisine = pd.read_sql(query, conn)\n",
    "print(df_city_best_cuisine)"
   ]
  },
  {
   "cell_type": "markdown",
   "id": "a24587aa-3228-4a05-9f16-763327ee3d34",
   "metadata": {},
   "source": [
    "## Most and least preferred meal type"
   ]
  },
  {
   "cell_type": "code",
   "execution_count": 37,
   "id": "44687137-4bf7-4973-a7d0-f7d38d1f4893",
   "metadata": {},
   "outputs": [
    {
     "name": "stdout",
     "output_type": "stream",
     "text": [
      "                 type  count\n",
      "0            Delivery  25917\n",
      "1            Dine-out  17765\n",
      "2            Desserts   3592\n",
      "3               Cafes   1722\n",
      "4  Drinks & nightlife   1101\n",
      "5              Buffet    878\n",
      "6       Pubs and bars    697\n"
     ]
    }
   ],
   "source": [
    "# preferred meal type\n",
    "conn = sqlite3.connect(\"zomato.db\")\n",
    "query = \"\"\"\n",
    "SELECT type, COUNT(*) AS count  \n",
    "FROM zomato_cleaned  \n",
    "GROUP BY type  \n",
    "ORDER BY count DESC;\n",
    "\"\"\"\n",
    "df_pref_meal_type = pd.read_sql(query, conn)\n",
    "print(df_pref_meal_type)"
   ]
  },
  {
   "cell_type": "code",
   "execution_count": 38,
   "id": "e9a19012-3771-41c0-b48d-bcfb0c7d4cd4",
   "metadata": {},
   "outputs": [
    {
     "name": "stdout",
     "output_type": "stream",
     "text": [
      "Database connection closed.\n"
     ]
    }
   ],
   "source": [
    "# close database connection\n",
    "conn.close()\n",
    "print(\"Database connection closed.\")"
   ]
  }
 ],
 "metadata": {
  "kernelspec": {
   "display_name": "Python [conda env:base] *",
   "language": "python",
   "name": "conda-base-py"
  },
  "language_info": {
   "codemirror_mode": {
    "name": "ipython",
    "version": 3
   },
   "file_extension": ".py",
   "mimetype": "text/x-python",
   "name": "python",
   "nbconvert_exporter": "python",
   "pygments_lexer": "ipython3",
   "version": "3.12.7"
  }
 },
 "nbformat": 4,
 "nbformat_minor": 5
}
